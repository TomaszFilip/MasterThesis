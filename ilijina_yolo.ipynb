{
 "cells": [
  {
   "metadata": {
    "collapsed": true,
    "ExecuteTime": {
     "end_time": "2025-06-02T14:22:30.323384Z",
     "start_time": "2025-06-02T14:22:26.403399Z"
    }
   },
   "cell_type": "code",
   "source": [
    "A,B,G=0,0,0\n",
    "isColab=False\n",
    "if isColab:\n",
    "    %pip install ultralytics\n",
    "    import ultralytics\n",
    "    ultralytics.checks()\n",
    "    from google.colab.patches import cv2_imshow\n",
    "    from google.colab import drive\n",
    "from sqlalchemy.dialects.oracle.dictionary import all_objects\n",
    "import csv\n",
    "import pickle\n",
    "from models.TrackedObject import TrackedObject\n",
    "from models.VideoAnalysis import VideoAnalysis\n",
    "from utils.dynamics import EuclideanDistTracker, get_overlap_info\n",
    "import utils.files as fil\n",
    "import cv2\n",
    "import os\n",
    "import analysis.mask_rcnn as mask_rcnn\n",
    "from analysis import yolo\n",
    "from utils.visualise import visualize\n",
    "%load_ext autoreload\n",
    "%autoreload 2\n",
    "\n",
    "from IPython.display import display, clear_output\n",
    "import PIL.Image"
   ],
   "id": "initial_id",
   "outputs": [
    {
     "name": "stderr",
     "output_type": "stream",
     "text": [
      "C:\\Users\\tomfi\\master_thesis\\models\\TrackedObject.py:125: SyntaxWarning: invalid decimal literal\n",
      "  if beta>=(3/4)*3.15and beta<(4/4)*3.15:\n"
     ]
    },
    {
     "ename": "KeyboardInterrupt",
     "evalue": "",
     "output_type": "error",
     "traceback": [
      "\u001B[31m---------------------------------------------------------------------------\u001B[39m",
      "\u001B[31mKeyboardInterrupt\u001B[39m                         Traceback (most recent call last)",
      "\u001B[36mCell\u001B[39m\u001B[36m \u001B[39m\u001B[32mIn[1]\u001B[39m\u001B[32m, line 18\u001B[39m\n\u001B[32m     16\u001B[39m \u001B[38;5;28;01mimport\u001B[39;00m\u001B[38;5;250m \u001B[39m\u001B[34;01mcv2\u001B[39;00m\n\u001B[32m     17\u001B[39m \u001B[38;5;28;01mimport\u001B[39;00m\u001B[38;5;250m \u001B[39m\u001B[34;01mos\u001B[39;00m\n\u001B[32m---> \u001B[39m\u001B[32m18\u001B[39m \u001B[38;5;28;01mimport\u001B[39;00m\u001B[38;5;250m \u001B[39m\u001B[34;01manalysis\u001B[39;00m\u001B[34;01m.\u001B[39;00m\u001B[34;01mmask_rcnn\u001B[39;00m\u001B[38;5;250m \u001B[39m\u001B[38;5;28;01mas\u001B[39;00m\u001B[38;5;250m \u001B[39m\u001B[34;01mmask_rcnn\u001B[39;00m\n\u001B[32m     19\u001B[39m \u001B[38;5;28;01mfrom\u001B[39;00m\u001B[38;5;250m \u001B[39m\u001B[34;01manalysis\u001B[39;00m\u001B[38;5;250m \u001B[39m\u001B[38;5;28;01mimport\u001B[39;00m yolo\n\u001B[32m     20\u001B[39m \u001B[38;5;28;01mfrom\u001B[39;00m\u001B[38;5;250m \u001B[39m\u001B[34;01mutils\u001B[39;00m\u001B[34;01m.\u001B[39;00m\u001B[34;01mvisualise\u001B[39;00m\u001B[38;5;250m \u001B[39m\u001B[38;5;28;01mimport\u001B[39;00m visualize\n",
      "\u001B[36mFile \u001B[39m\u001B[32m~\\master_thesis\\analysis\\mask_rcnn.py:1\u001B[39m\n\u001B[32m----> \u001B[39m\u001B[32m1\u001B[39m \u001B[38;5;28;01mimport\u001B[39;00m\u001B[38;5;250m \u001B[39m\u001B[34;01mtorch\u001B[39;00m\n\u001B[32m      2\u001B[39m \u001B[38;5;28;01mimport\u001B[39;00m\u001B[38;5;250m \u001B[39m\u001B[34;01mtorchvision\u001B[39;00m\u001B[34;01m.\u001B[39;00m\u001B[34;01mtransforms\u001B[39;00m\u001B[38;5;250m \u001B[39m\u001B[38;5;28;01mas\u001B[39;00m\u001B[38;5;250m \u001B[39m\u001B[34;01mT\u001B[39;00m\n\u001B[32m      3\u001B[39m \u001B[38;5;28;01mfrom\u001B[39;00m\u001B[38;5;250m \u001B[39m\u001B[34;01mtorchvision\u001B[39;00m\u001B[34;01m.\u001B[39;00m\u001B[34;01mmodels\u001B[39;00m\u001B[34;01m.\u001B[39;00m\u001B[34;01mdetection\u001B[39;00m\u001B[38;5;250m \u001B[39m\u001B[38;5;28;01mimport\u001B[39;00m MaskRCNN_ResNet50_FPN_Weights, maskrcnn_resnet50_fpn\n",
      "\u001B[36mFile \u001B[39m\u001B[32m~\\anaconda3\\Lib\\site-packages\\torch\\__init__.py:2665\u001B[39m\n\u001B[32m   2661\u001B[39m     \u001B[38;5;28;01mreturn\u001B[39;00m os.getenv(\u001B[33m\"\u001B[39m\u001B[33mTORCH_DEVICE_BACKEND_AUTOLOAD\u001B[39m\u001B[33m\"\u001B[39m, \u001B[33m\"\u001B[39m\u001B[33m1\u001B[39m\u001B[33m\"\u001B[39m) == \u001B[33m\"\u001B[39m\u001B[33m1\u001B[39m\u001B[33m\"\u001B[39m\n\u001B[32m   2664\u001B[39m \u001B[38;5;28;01mif\u001B[39;00m _is_device_backend_autoload_enabled():\n\u001B[32m-> \u001B[39m\u001B[32m2665\u001B[39m     \u001B[43m_import_device_backends\u001B[49m\u001B[43m(\u001B[49m\u001B[43m)\u001B[49m\n",
      "\u001B[36mFile \u001B[39m\u001B[32m~\\anaconda3\\Lib\\site-packages\\torch\\__init__.py:2632\u001B[39m, in \u001B[36m_import_device_backends\u001B[39m\u001B[34m()\u001B[39m\n\u001B[32m   2630\u001B[39m     backend_extensions = entry_points().get(group_name, ())\n\u001B[32m   2631\u001B[39m \u001B[38;5;28;01melse\u001B[39;00m:\n\u001B[32m-> \u001B[39m\u001B[32m2632\u001B[39m     backend_extensions = \u001B[43mentry_points\u001B[49m\u001B[43m(\u001B[49m\u001B[43mgroup\u001B[49m\u001B[43m=\u001B[49m\u001B[43mgroup_name\u001B[49m\u001B[43m)\u001B[49m\n\u001B[32m   2634\u001B[39m \u001B[38;5;28;01mfor\u001B[39;00m backend_extension \u001B[38;5;129;01min\u001B[39;00m backend_extensions:\n\u001B[32m   2635\u001B[39m     \u001B[38;5;28;01mtry\u001B[39;00m:\n\u001B[32m   2636\u001B[39m         \u001B[38;5;66;03m# Load the extension\u001B[39;00m\n",
      "\u001B[36mFile \u001B[39m\u001B[32m~\\anaconda3\\Lib\\importlib\\metadata\\__init__.py:913\u001B[39m, in \u001B[36mentry_points\u001B[39m\u001B[34m(**params)\u001B[39m\n\u001B[32m    902\u001B[39m \u001B[38;5;250m\u001B[39m\u001B[33;03m\"\"\"Return EntryPoint objects for all installed packages.\u001B[39;00m\n\u001B[32m    903\u001B[39m \n\u001B[32m    904\u001B[39m \u001B[33;03mPass selection parameters (group or name) to filter the\u001B[39;00m\n\u001B[32m   (...)\u001B[39m\u001B[32m    908\u001B[39m \u001B[33;03m:return: EntryPoints for all installed packages.\u001B[39;00m\n\u001B[32m    909\u001B[39m \u001B[33;03m\"\"\"\u001B[39;00m\n\u001B[32m    910\u001B[39m eps = itertools.chain.from_iterable(\n\u001B[32m    911\u001B[39m     dist.entry_points \u001B[38;5;28;01mfor\u001B[39;00m dist \u001B[38;5;129;01min\u001B[39;00m _unique(distributions())\n\u001B[32m    912\u001B[39m )\n\u001B[32m--> \u001B[39m\u001B[32m913\u001B[39m \u001B[38;5;28;01mreturn\u001B[39;00m \u001B[43mEntryPoints\u001B[49m\u001B[43m(\u001B[49m\u001B[43meps\u001B[49m\u001B[43m)\u001B[49m.select(**params)\n",
      "\u001B[36mFile \u001B[39m\u001B[32m~\\anaconda3\\Lib\\importlib\\metadata\\__init__.py:911\u001B[39m, in \u001B[36m<genexpr>\u001B[39m\u001B[34m(.0)\u001B[39m\n\u001B[32m    901\u001B[39m \u001B[38;5;28;01mdef\u001B[39;00m\u001B[38;5;250m \u001B[39m\u001B[34mentry_points\u001B[39m(**params) -> EntryPoints:\n\u001B[32m    902\u001B[39m \u001B[38;5;250m    \u001B[39m\u001B[33;03m\"\"\"Return EntryPoint objects for all installed packages.\u001B[39;00m\n\u001B[32m    903\u001B[39m \n\u001B[32m    904\u001B[39m \u001B[33;03m    Pass selection parameters (group or name) to filter the\u001B[39;00m\n\u001B[32m   (...)\u001B[39m\u001B[32m    908\u001B[39m \u001B[33;03m    :return: EntryPoints for all installed packages.\u001B[39;00m\n\u001B[32m    909\u001B[39m \u001B[33;03m    \"\"\"\u001B[39;00m\n\u001B[32m    910\u001B[39m     eps = itertools.chain.from_iterable(\n\u001B[32m--> \u001B[39m\u001B[32m911\u001B[39m         \u001B[43mdist\u001B[49m\u001B[43m.\u001B[49m\u001B[43mentry_points\u001B[49m \u001B[38;5;28;01mfor\u001B[39;00m dist \u001B[38;5;129;01min\u001B[39;00m _unique(distributions())\n\u001B[32m    912\u001B[39m     )\n\u001B[32m    913\u001B[39m     \u001B[38;5;28;01mreturn\u001B[39;00m EntryPoints(eps).select(**params)\n",
      "\u001B[36mFile \u001B[39m\u001B[32m~\\anaconda3\\Lib\\importlib\\metadata\\__init__.py:471\u001B[39m, in \u001B[36mDistribution.entry_points\u001B[39m\u001B[34m(self)\u001B[39m\n\u001B[32m    469\u001B[39m \u001B[38;5;129m@property\u001B[39m\n\u001B[32m    470\u001B[39m \u001B[38;5;28;01mdef\u001B[39;00m\u001B[38;5;250m \u001B[39m\u001B[34mentry_points\u001B[39m(\u001B[38;5;28mself\u001B[39m):\n\u001B[32m--> \u001B[39m\u001B[32m471\u001B[39m     \u001B[38;5;28;01mreturn\u001B[39;00m EntryPoints._from_text_for(\u001B[38;5;28;43mself\u001B[39;49m\u001B[43m.\u001B[49m\u001B[43mread_text\u001B[49m\u001B[43m(\u001B[49m\u001B[33;43m'\u001B[39;49m\u001B[33;43mentry_points.txt\u001B[39;49m\u001B[33;43m'\u001B[39;49m\u001B[43m)\u001B[49m, \u001B[38;5;28mself\u001B[39m)\n",
      "\u001B[36mFile \u001B[39m\u001B[32m~\\anaconda3\\Lib\\importlib\\metadata\\__init__.py:819\u001B[39m, in \u001B[36mPathDistribution.read_text\u001B[39m\u001B[34m(self, filename)\u001B[39m\n\u001B[32m    811\u001B[39m \u001B[38;5;28;01mdef\u001B[39;00m\u001B[38;5;250m \u001B[39m\u001B[34mread_text\u001B[39m(\u001B[38;5;28mself\u001B[39m, filename):\n\u001B[32m    812\u001B[39m     \u001B[38;5;28;01mwith\u001B[39;00m suppress(\n\u001B[32m    813\u001B[39m         \u001B[38;5;167;01mFileNotFoundError\u001B[39;00m,\n\u001B[32m    814\u001B[39m         \u001B[38;5;167;01mIsADirectoryError\u001B[39;00m,\n\u001B[32m   (...)\u001B[39m\u001B[32m    817\u001B[39m         \u001B[38;5;167;01mPermissionError\u001B[39;00m,\n\u001B[32m    818\u001B[39m     ):\n\u001B[32m--> \u001B[39m\u001B[32m819\u001B[39m         \u001B[38;5;28;01mreturn\u001B[39;00m \u001B[38;5;28;43mself\u001B[39;49m\u001B[43m.\u001B[49m\u001B[43m_path\u001B[49m\u001B[43m.\u001B[49m\u001B[43mjoinpath\u001B[49m\u001B[43m(\u001B[49m\u001B[43mfilename\u001B[49m\u001B[43m)\u001B[49m\u001B[43m.\u001B[49m\u001B[43mread_text\u001B[49m\u001B[43m(\u001B[49m\u001B[43mencoding\u001B[49m\u001B[43m=\u001B[49m\u001B[33;43m'\u001B[39;49m\u001B[33;43mutf-8\u001B[39;49m\u001B[33;43m'\u001B[39;49m\u001B[43m)\u001B[49m\n",
      "\u001B[36mFile \u001B[39m\u001B[32m~\\anaconda3\\Lib\\pathlib.py:1027\u001B[39m, in \u001B[36mPath.read_text\u001B[39m\u001B[34m(self, encoding, errors)\u001B[39m\n\u001B[32m   1023\u001B[39m \u001B[38;5;250m\u001B[39m\u001B[33;03m\"\"\"\u001B[39;00m\n\u001B[32m   1024\u001B[39m \u001B[33;03mOpen the file in text mode, read it, and close the file.\u001B[39;00m\n\u001B[32m   1025\u001B[39m \u001B[33;03m\"\"\"\u001B[39;00m\n\u001B[32m   1026\u001B[39m encoding = io.text_encoding(encoding)\n\u001B[32m-> \u001B[39m\u001B[32m1027\u001B[39m \u001B[38;5;28;01mwith\u001B[39;00m \u001B[38;5;28;43mself\u001B[39;49m\u001B[43m.\u001B[49m\u001B[43mopen\u001B[49m\u001B[43m(\u001B[49m\u001B[43mmode\u001B[49m\u001B[43m=\u001B[49m\u001B[33;43m'\u001B[39;49m\u001B[33;43mr\u001B[39;49m\u001B[33;43m'\u001B[39;49m\u001B[43m,\u001B[49m\u001B[43m \u001B[49m\u001B[43mencoding\u001B[49m\u001B[43m=\u001B[49m\u001B[43mencoding\u001B[49m\u001B[43m,\u001B[49m\u001B[43m \u001B[49m\u001B[43merrors\u001B[49m\u001B[43m=\u001B[49m\u001B[43merrors\u001B[49m\u001B[43m)\u001B[49m \u001B[38;5;28;01mas\u001B[39;00m f:\n\u001B[32m   1028\u001B[39m     \u001B[38;5;28;01mreturn\u001B[39;00m f.read()\n",
      "\u001B[36mFile \u001B[39m\u001B[32m~\\anaconda3\\Lib\\pathlib.py:1013\u001B[39m, in \u001B[36mPath.open\u001B[39m\u001B[34m(self, mode, buffering, encoding, errors, newline)\u001B[39m\n\u001B[32m   1011\u001B[39m \u001B[38;5;28;01mif\u001B[39;00m \u001B[33m\"\u001B[39m\u001B[33mb\u001B[39m\u001B[33m\"\u001B[39m \u001B[38;5;129;01mnot\u001B[39;00m \u001B[38;5;129;01min\u001B[39;00m mode:\n\u001B[32m   1012\u001B[39m     encoding = io.text_encoding(encoding)\n\u001B[32m-> \u001B[39m\u001B[32m1013\u001B[39m \u001B[38;5;28;01mreturn\u001B[39;00m \u001B[43mio\u001B[49m\u001B[43m.\u001B[49m\u001B[43mopen\u001B[49m\u001B[43m(\u001B[49m\u001B[38;5;28;43mself\u001B[39;49m\u001B[43m,\u001B[49m\u001B[43m \u001B[49m\u001B[43mmode\u001B[49m\u001B[43m,\u001B[49m\u001B[43m \u001B[49m\u001B[43mbuffering\u001B[49m\u001B[43m,\u001B[49m\u001B[43m \u001B[49m\u001B[43mencoding\u001B[49m\u001B[43m,\u001B[49m\u001B[43m \u001B[49m\u001B[43merrors\u001B[49m\u001B[43m,\u001B[49m\u001B[43m \u001B[49m\u001B[43mnewline\u001B[49m\u001B[43m)\u001B[49m\n",
      "\u001B[36mFile \u001B[39m\u001B[32m<frozen codecs>:309\u001B[39m, in \u001B[36m__init__\u001B[39m\u001B[34m(self, errors)\u001B[39m\n",
      "\u001B[31mKeyboardInterrupt\u001B[39m: "
     ]
    }
   ],
   "execution_count": 1
  },
  {
   "metadata": {},
   "cell_type": "code",
   "source": [
    "\n",
    "transform, COCO_INSTANCE_CATEGORY_NAMES, model, device= mask_rcnn.config()\n",
    "model= yolo.config()\n",
    "\n",
    "def run_detection(frame_filenames, detection_file_path):\n",
    "    if os.path.exists(detection_file_path):\n",
    "        print(\"Detection file already exists. Skipping YOLO detection.\")\n",
    "        return\n",
    "\n",
    "    print(\"Running YOLO detection and saving results...\")\n",
    "    all_detections = []\n",
    "\n",
    "    for frame_filename in frame_filenames:\n",
    "        frame = cv2.imread(frame_filename)\n",
    "        if frame is None:\n",
    "            all_detections.append([])  # Append empty detection for consistency\n",
    "            continue\n",
    "\n",
    "        detections = yolo.process_frame(model, frame, device, transform,\n",
    "                                        COCO_INSTANCE_CATEGORY_NAMES,\n",
    "                                        tracker=None,\n",
    "                                        conf=0.5)\n",
    "        all_detections.append(detections)\n",
    "\n",
    "    with open(detection_file_path, 'wb') as f:\n",
    "        pickle.dump(all_detections, f)\n",
    "\n",
    "    print(f\"Saved detections to {detection_file_path}\")\n",
    "\n",
    "def process_clip(frame_filenames, case_folder, detection_file_path):\n",
    "    acc_detected=False\n",
    "    tracker = EuclideanDistTracker()\n",
    "    va=VideoAnalysis()\n",
    "\n",
    "    # Load YOLO detections\n",
    "    if not os.path.exists(detection_file_path):\n",
    "        raise FileNotFoundError(f\"No detection file found at {detection_file_path}\")\n",
    "    with open(detection_file_path, 'rb') as f:\n",
    "        all_detections = pickle.load(f)\n",
    "\n",
    "\n",
    "    # Get frame size dynamically from the first frame\n",
    "    sample_frame = cv2.imread(frame_filenames[0])\n",
    "    height, width = sample_frame.shape[:2]\n",
    "    frame_size = (width, height)\n",
    "    fps = 18\n",
    "\n",
    "    # Save output to MP4 instead of AVI\n",
    "    fourcc = cv2.VideoWriter_fourcc(*'mp4v')  # or use 'avc1' for better compatibility\n",
    "    out = cv2.VideoWriter(case_folder+\"_output.mp4\", fourcc, fps, frame_size)\n",
    "\n",
    "    for idx, frame_filename in enumerate(frame_filenames):\n",
    "        frame = cv2.imread(frame_filename)\n",
    "        if frame is None:\n",
    "            continue\n",
    "        #result_frame,_,_objects = mask_rcnn.process_frame(model, frame, device, transform, COCO_INSTANCE_CATEGORY_NAMES, tracker, conf=0.5)\n",
    "        _objects = all_detections[idx]\n",
    "        boxes = tracker.update(_objects)\n",
    "        get_overlap_info(boxes)\n",
    "        result_frame=visualize(frame, _objects)\n",
    "        for o in va.allObjects:\n",
    "          o.is_present=False\n",
    "          o.is_accident=False\n",
    "        for obj in _objects:\n",
    "          if obj.id>(len(va.allObjects)-1):\n",
    "            obj.H=height\n",
    "            va.allObjects.append(obj)\n",
    "          else:\n",
    "            o=va.allObjects[obj.id]\n",
    "            o.id=obj.id\n",
    "            o.is_present=obj.is_present\n",
    "            o.x1=obj.x1\n",
    "            o.x2=obj.x2\n",
    "            o.y1=obj.y1\n",
    "            o.y2=obj.y2\n",
    "            o.centroid=obj.centroid\n",
    "            o.overlaps=obj.overlaps\n",
    "            o.past_centroids.append(obj.centroid)\n",
    "            o.compute_speed()\n",
    "            o.compute_acceleration()\n",
    "            o.compute_vector()\n",
    "            #print(str(o.id)+str(o.is_accident)+str(o.centroid))\n",
    "        get_overlap_info(va.allObjects)\n",
    "        for box in va.allObjects:\n",
    "            box.check_accident(A,B,G)\n",
    "            #cv2.putText(result_frame, str(box.acceleration),(box.x1, box.y1 - 10), cv2.FONT_HERSHEY_PLAIN, 1, (255, 0, 0), 2)\n",
    "            if box.is_accident:\n",
    "              acc_detected=True\n",
    "              cv2.rectangle(result_frame, (box.x1, box.y1), (box.x2, box.y2), (0, 255, 255), 3)\n",
    "        #print(frame_filename)\n",
    "        out.write(result_frame)\n",
    "        if isColab:\n",
    "            #Convert to PIL format for proper display in Jupyter/Colab\n",
    "            #Display only the current frame\n",
    "            #clear_output(wait=True)\n",
    "            result_frame_rgb = cv2.cvtColor(result_frame, cv2.COLOR_BGR2RGB)  # Convert BGR to RGB\n",
    "            result_pil = PIL.Image.fromarray(result_frame_rgb)\n",
    "            display(result_pil)\n",
    "        else:\n",
    "            cv2.imshow('res',result_frame)\n",
    "            if cv2.waitKey(1) & 0xFF == ord('q'):\n",
    "                  break\n",
    "    out.release()\n",
    "    cv2.destroyAllWindows()\n",
    "    return acc_detected\n"
   ],
   "id": "62e76456fc0e4c32",
   "execution_count": 7,
   "outputs": [
    {
     "name": "stdout",
     "output_type": "stream",
     "text": [
      "Ultralytics 8.3.40  Python-3.12.7 torch-2.5.1+cpu CPU (12th Gen Intel Core(TM) i5-1235U)\n",
      "Setup complete  (12 CPUs, 15.7 GB RAM, 409.3/454.3 GB disk)\n"
     ]
    }
   ]
  },
  {
   "metadata": {
    "ExecuteTime": {
     "end_time": "2025-06-02T14:29:24.354059Z",
     "start_time": "2025-06-02T14:29:24.309203Z"
    }
   },
   "cell_type": "code",
   "source": [
    "if isColab:\n",
    "    drive.mount('/content/drive/',force_remount=True)\n",
    "    normal_folder = '/content/drive/MyDrive/data/normal/'\n",
    "else:\n",
    "    accident_folder = './data/accident/'\n",
    "    normal_folder = './data/normal/'\n",
    "\n",
    "results=[]\n",
    "A,B,G=7,0,4\n",
    "for B in [1.0,2.0,3.0,4.0]:\n",
    "    folders = os.listdir(normal_folder)\n",
    "    accident_count, total_count=0,0\n",
    "    for case_folder in folders:\n",
    "        frame_filenames= sorted(\n",
    "            [f for f in os.listdir(normal_folder+case_folder) if f.endswith('.jpg')],\n",
    "            key=fil.extract_number\n",
    "        )\n",
    "\n",
    "        frame_filenames = [os.path.join(normal_folder+case_folder, f) for f in frame_filenames]\n",
    "        detection_file_path = case_folder + \"_detections.pkl\"\n",
    "        if not os.path.exists(detection_file_path):\n",
    "            run_detection(frame_filenames, detection_file_path)\n",
    "        else:\n",
    "            print(f\"Detections already exist at {detection_file_path}. Skipping detection.\")\n",
    "        acc_detected = process_clip(frame_filenames, case_folder, detection_file_path)\n",
    "        if acc_detected == True:\n",
    "            accident_count+=1\n",
    "        total_count+=1\n",
    "    print (\"Total count: \",total_count)\n",
    "    print (\"Accident count: \",accident_count)\n",
    "    print (\"A\",A,\"B\",B,\"G\",G)\n",
    "\n",
    "    results.append({\n",
    "        \"A\": A,\n",
    "        \"total_count\": total_count,\n",
    "        \"accident_count\": accident_count,\n",
    "        \"B\": B,\n",
    "        \"G\": G\n",
    "    })\n",
    "csv_output_file = \"normal_yolo_B.csv\"\n",
    "with open(csv_output_file, 'w', newline='') as csvfile:\n",
    "    fieldnames = [\"A\", \"total_count\", \"accident_count\", \"B\", \"G\"]\n",
    "    writer = csv.DictWriter(csvfile, fieldnames=fieldnames)\n",
    "    writer.writeheader()\n",
    "    writer.writerows(results)"
   ],
   "id": "647e5a863a177cf9",
   "outputs": [
    {
     "ename": "NameError",
     "evalue": "name 'isColab' is not defined",
     "output_type": "error",
     "traceback": [
      "\u001B[31m---------------------------------------------------------------------------\u001B[39m",
      "\u001B[31mNameError\u001B[39m                                 Traceback (most recent call last)",
      "\u001B[36mCell\u001B[39m\u001B[36m \u001B[39m\u001B[32mIn[2]\u001B[39m\u001B[32m, line 1\u001B[39m\n\u001B[32m----> \u001B[39m\u001B[32m1\u001B[39m \u001B[38;5;28;01mif\u001B[39;00m \u001B[43misColab\u001B[49m:\n\u001B[32m      2\u001B[39m     drive.mount(\u001B[33m'\u001B[39m\u001B[33m/content/drive/\u001B[39m\u001B[33m'\u001B[39m,force_remount=\u001B[38;5;28;01mTrue\u001B[39;00m)\n\u001B[32m      3\u001B[39m     normal_folder = \u001B[33m'\u001B[39m\u001B[33m/content/drive/MyDrive/data/normal/\u001B[39m\u001B[33m'\u001B[39m\n",
      "\u001B[31mNameError\u001B[39m: name 'isColab' is not defined"
     ]
    }
   ],
   "execution_count": 2
  },
  {
   "metadata": {
    "ExecuteTime": {
     "end_time": "2025-06-02T17:46:45.208053Z",
     "start_time": "2025-06-02T17:46:45.062451Z"
    }
   },
   "cell_type": "code",
   "source": [
    "if isColab:\n",
    "    drive.mount('/content/drive/',force_remount=True)\n",
    "    normal_folder = '/content/drive/MyDrive/data/normal/'\n",
    "    accident_folder = '/content/drive/MyDrive/data/accident/'\n",
    "else:\n",
    "    accident_folder = './data/accident/'\n",
    "    normal_folder = './data/normal/'\n",
    "results=[]\n",
    "A,B,G=7,0,4\n",
    "for B in [1.0,2.0,3.0,4.0]:\n",
    "    folders = os.listdir(accident_folder)\n",
    "    accident_count, total_count=0,0\n",
    "    for case_folder in folders:\n",
    "        frame_filenames= sorted(\n",
    "            [f for f in os.listdir(accident_folder+case_folder) if f.endswith('.jpg')],\n",
    "            key=fil.extract_number\n",
    "        )\n",
    "\n",
    "        frame_filenames = [os.path.join(accident_folder+case_folder, f) for f in frame_filenames]\n",
    "        detection_file_path = case_folder + \"_detections.pkl\"\n",
    "        if not os.path.exists(detection_file_path):\n",
    "            run_detection(frame_filenames, detection_file_path)\n",
    "        else:\n",
    "            print(f\"Detections already exist at {detection_file_path}. Skipping detection.\")\n",
    "        acc_detected = process_clip(frame_filenames, case_folder, detection_file_path)\n",
    "        if acc_detected == True:\n",
    "            accident_count+=1\n",
    "        total_count+=1\n",
    "    print (\"Total count: \",total_count)\n",
    "    print (\"Accident count: \",accident_count)\n",
    "    print (\"A\",A,\"B\",B,\"G\",G)\n",
    "\n",
    "    results.append({\n",
    "        \"A\": A,\n",
    "        \"total_count\": total_count,\n",
    "        \"accident_count\": accident_count,\n",
    "        \"B\": B,\n",
    "        \"G\": G\n",
    "    })\n",
    "csv_output_file = \"accident_yolo_B.csv\"\n",
    "with open(csv_output_file, 'w', newline='') as csvfile:\n",
    "    fieldnames = [\"A\", \"total_count\", \"accident_count\", \"B\", \"G\"]\n",
    "    writer = csv.DictWriter(csvfile, fieldnames=fieldnames)\n",
    "    writer.writeheader()\n",
    "    writer.writerows(results)"
   ],
   "id": "42088fe9782cc683",
   "outputs": [
    {
     "ename": "NameError",
     "evalue": "name 'isColab' is not defined",
     "output_type": "error",
     "traceback": [
      "\u001B[31m---------------------------------------------------------------------------\u001B[39m",
      "\u001B[31mNameError\u001B[39m                                 Traceback (most recent call last)",
      "\u001B[36mCell\u001B[39m\u001B[36m \u001B[39m\u001B[32mIn[3]\u001B[39m\u001B[32m, line 1\u001B[39m\n\u001B[32m----> \u001B[39m\u001B[32m1\u001B[39m \u001B[38;5;28;01mif\u001B[39;00m \u001B[43misColab\u001B[49m:\n\u001B[32m      2\u001B[39m     drive.mount(\u001B[33m'\u001B[39m\u001B[33m/content/drive/\u001B[39m\u001B[33m'\u001B[39m,force_remount=\u001B[38;5;28;01mTrue\u001B[39;00m)\n\u001B[32m      3\u001B[39m     normal_folder = \u001B[33m'\u001B[39m\u001B[33m/content/drive/MyDrive/data/normal/\u001B[39m\u001B[33m'\u001B[39m\n",
      "\u001B[31mNameError\u001B[39m: name 'isColab' is not defined"
     ]
    }
   ],
   "execution_count": 3
  },
  {
   "metadata": {
    "ExecuteTime": {
     "end_time": "2025-06-02T17:46:45.520858Z",
     "start_time": "2025-06-02T17:46:45.514310Z"
    }
   },
   "cell_type": "code",
   "source": "",
   "id": "58e0e06a26648a18",
   "outputs": [],
   "execution_count": null
  },
  {
   "metadata": {},
   "cell_type": "code",
   "outputs": [],
   "source": "",
   "id": "9cedeb4744f73180",
   "execution_count": null
  }
 ],
 "metadata": {
  "kernelspec": {
   "display_name": "Python 3",
   "language": "python",
   "name": "python3"
  },
  "language_info": {
   "codemirror_mode": {
    "name": "ipython",
    "version": 2
   },
   "file_extension": ".py",
   "mimetype": "text/x-python",
   "name": "python",
   "nbconvert_exporter": "python",
   "pygments_lexer": "ipython2",
   "version": "2.7.6"
  }
 },
 "nbformat": 4,
 "nbformat_minor": 5
}
